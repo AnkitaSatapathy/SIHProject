{
 "cells": [
  {
   "cell_type": "code",
   "execution_count": 9,
   "id": "ffe20107-328f-4577-a509-b673808495c1",
   "metadata": {},
   "outputs": [],
   "source": [
    "import pandas as pd"
   ]
  },
  {
   "cell_type": "code",
   "execution_count": 10,
   "id": "25506d8e-c2dc-463c-9c09-70ebc7be06bf",
   "metadata": {},
   "outputs": [],
   "source": [
    "import warnings\n",
    "warnings.filterwarnings('ignore')"
   ]
  },
  {
   "cell_type": "code",
   "execution_count": 11,
   "id": "13fe1d7d-397b-4b55-81f0-4c4131c58347",
   "metadata": {},
   "outputs": [],
   "source": [
    "data = pd.read_csv(\"SIH Data.csv\")\n",
    "data['Day'] = data['Day'].ffill()"
   ]
  },
  {
   "cell_type": "code",
   "execution_count": 12,
   "id": "97071506-0f61-4635-9974-70406837edd6",
   "metadata": {},
   "outputs": [],
   "source": [
    "data['Datetime'] = pd.to_datetime(data['Day'] + ' ' + data['Time'], format='%b-%d %H:%M')\n",
    "data.set_index('Datetime', inplace=True)\n",
    "data.drop(columns=['Day', 'Time'], inplace=True)\n",
    "data = data.dropna(how='any',axis=0)\n"
   ]
  },
  {
   "cell_type": "code",
   "execution_count": 13,
   "id": "d3627b81",
   "metadata": {},
   "outputs": [],
   "source": [
    "train_size = 0.8  # 80% of data for training, 20% for testing\n",
    "split_index = int(len(data) * train_size)\n",
    "\n",
    "# Splitting the data chronologically\n",
    "train, test = data[:split_index], data[split_index:]"
   ]
  },
  {
   "cell_type": "code",
   "execution_count": 14,
   "id": "0d0d6928-23cf-4057-ba0f-4dcd3d78009a",
   "metadata": {},
   "outputs": [],
   "source": [
    "from statsmodels.tsa.statespace.sarimax import SARIMAX\n",
    "\n",
    "ts = train['Load (MW)']\n",
    "exog_train = train[['Temp', 'Rain(mm)', 'Gust(km/hr)', 'Rain%', 'IsHoliday']]\n",
    "exog_test = test[['Temp', 'Rain(mm)', 'Gust(km/hr)', 'Rain%', 'IsHoliday']]\n",
    "\n",
    "model = SARIMAX(ts, exog=exog_train, order=(5, 1, 0))\n",
    "model_fit = model.fit()\n",
    "\n",
    "forecast = model_fit.get_forecast(steps=len(test), exog=exog_test)\n",
    "forecast_series = pd.Series(forecast.predicted_mean.values, index=test.index)"
   ]
  },
  {
   "cell_type": "code",
   "execution_count": 15,
   "id": "35e490ff",
   "metadata": {},
   "outputs": [
    {
     "name": "stdout",
     "output_type": "stream",
     "text": [
      "1900-08-31 09:00:00 \t 5323.01\n",
      "1900-08-31 12:00:00 \t 5736.45\n",
      "1900-08-31 15:00:00 \t 5999.72\n",
      "1900-08-31 21:00:00 \t 5626.36\n"
     ]
    }
   ],
   "source": [
    "for z,i in zip(test.index[-4:], forecast.predicted_mean.values[-4:]):\n",
    "    print(f\"{z} \\t {i:.2f}\")"
   ]
  },
  {
   "cell_type": "code",
   "execution_count": 16,
   "id": "ae25f170",
   "metadata": {},
   "outputs": [
    {
     "name": "stdout",
     "output_type": "stream",
     "text": [
      "5323.01\n",
      "5736.45\n",
      "5999.72\n",
      "5626.36\n"
     ]
    }
   ],
   "source": [
    "for z,i in zip(test.index[-4:], forecast.predicted_mean.values[-4:]):\n",
    "    print(f\"{i:.2f}\")"
   ]
  }
 ],
 "metadata": {
  "kernelspec": {
   "display_name": "Python 3 (ipykernel)",
   "language": "python",
   "name": "python3"
  },
  "language_info": {
   "codemirror_mode": {
    "name": "ipython",
    "version": 3
   },
   "file_extension": ".py",
   "mimetype": "text/x-python",
   "name": "python",
   "nbconvert_exporter": "python",
   "pygments_lexer": "ipython3",
   "version": "3.12.4"
  }
 },
 "nbformat": 4,
 "nbformat_minor": 5
}
